{
 "cells": [
  {
   "cell_type": "code",
   "execution_count": 6,
   "metadata": {
    "collapsed": false
   },
   "outputs": [
    {
     "ename": "NameError",
     "evalue": "name 'X' is not defined",
     "output_type": "error",
     "traceback": [
      "\u001b[1;31m---------------------------------------------------------------------------\u001b[0m",
      "\u001b[1;31mNameError\u001b[0m                                 Traceback (most recent call last)",
      "\u001b[1;32m<ipython-input-6-2a4fb8b4e395>\u001b[0m in \u001b[0;36m<module>\u001b[1;34m()\u001b[0m\n\u001b[0;32m     18\u001b[0m \u001b[1;33m\u001b[0m\u001b[0m\n\u001b[0;32m     19\u001b[0m \u001b[1;31m###create random 90-10 split\u001b[0m\u001b[1;33m\u001b[0m\u001b[1;33m\u001b[0m\u001b[0m\n\u001b[1;32m---> 20\u001b[1;33m \u001b[0mX\u001b[0m \u001b[1;33m=\u001b[0m \u001b[0mdfrows\u001b[0m \u001b[1;33m=\u001b[0m \u001b[0mrandom\u001b[0m\u001b[1;33m.\u001b[0m\u001b[0msample\u001b[0m\u001b[1;33m(\u001b[0m\u001b[0mX\u001b[0m\u001b[1;33m.\u001b[0m\u001b[0mindex\u001b[0m\u001b[1;33m,\u001b[0m \u001b[0mint\u001b[0m\u001b[1;33m(\u001b[0m\u001b[1;36m0.9\u001b[0m\u001b[1;33m*\u001b[0m\u001b[0mlen\u001b[0m\u001b[1;33m(\u001b[0m\u001b[0mX\u001b[0m\u001b[1;33m)\u001b[0m\u001b[1;33m)\u001b[0m \u001b[1;33m+\u001b[0m \u001b[1;36m1\u001b[0m\u001b[1;33m)\u001b[0m\u001b[1;33m\u001b[0m\u001b[0m\n\u001b[0m\u001b[0;32m     21\u001b[0m \u001b[1;33m\u001b[0m\u001b[0m\n\u001b[0;32m     22\u001b[0m \u001b[0mrows\u001b[0m \u001b[1;33m=\u001b[0m \u001b[0mrandom\u001b[0m\u001b[1;33m.\u001b[0m\u001b[0msample\u001b[0m\u001b[1;33m(\u001b[0m\u001b[0mX\u001b[0m\u001b[1;33m.\u001b[0m\u001b[0mindex\u001b[0m\u001b[1;33m,\u001b[0m \u001b[0mint\u001b[0m\u001b[1;33m(\u001b[0m\u001b[1;36m0.9\u001b[0m\u001b[1;33m*\u001b[0m\u001b[0mlen\u001b[0m\u001b[1;33m(\u001b[0m\u001b[0mX\u001b[0m\u001b[1;33m)\u001b[0m\u001b[1;33m)\u001b[0m \u001b[1;33m+\u001b[0m \u001b[1;36m1\u001b[0m\u001b[1;33m)\u001b[0m\u001b[1;33m\u001b[0m\u001b[0m\n",
      "\u001b[1;31mNameError\u001b[0m: name 'X' is not defined"
     ]
    }
   ],
   "source": [
    "import pandas as pd\n",
    "import json\n",
    "import codecs\n",
    "import re\n",
    "import random\n",
    "import numpy as np\n",
    "\n",
    "def read_dataset(path):\n",
    "  with codecs.open(path, 'r', 'utf-8') as myFile:\n",
    "    content = myFile.read()\n",
    "  dataset = json.loads(content)\n",
    "  return dataset\n",
    "\n",
    "###load JSON file\n",
    "file_name = 'data/pizza_request_dataset.json'\n",
    "dataset = read_dataset(file_name)\n",
    "df = pd.read_json(json.dumps(dataset, sort_keys=True, indent=2))\n",
    "\n",
    "###create random 90-10 split\n",
    "X = dfrows = random.sample(X.index, int(0.9*len(X)) + 1)\n",
    "\n",
    "rows = random.sample(X.index, int(0.9*len(X)) + 1)\n",
    "X_train = X.ix[rows]\n",
    "X_test = X.drop(rows)\n",
    "y_train = X_train.requester_received_pizza.astype(int)\n",
    "y_test = X_test.requester_received_pizza.astype(int)\n",
    "\n",
    "# print \"Data loading and train-test splits = DONE!\"\n",
    "###"
   ]
  },
  {
   "cell_type": "code",
   "execution_count": 4,
   "metadata": {
    "collapsed": false
   },
   "outputs": [
    {
     "ename": "NameError",
     "evalue": "name 'np' is not defined",
     "output_type": "error",
     "traceback": [
      "\u001b[1;31m---------------------------------------------------------------------------\u001b[0m",
      "\u001b[1;31mNameError\u001b[0m                                 Traceback (most recent call last)",
      "\u001b[1;32m<ipython-input-4-543bade5de1b>\u001b[0m in \u001b[0;36m<module>\u001b[1;34m()\u001b[0m\n\u001b[0;32m     15\u001b[0m \u001b[0mmax_features\u001b[0m\u001b[1;33m=\u001b[0m\u001b[1;36m500\u001b[0m\u001b[1;33m\u001b[0m\u001b[0m\n\u001b[0;32m     16\u001b[0m \u001b[0mbinary\u001b[0m\u001b[1;33m=\u001b[0m\u001b[0mFalse\u001b[0m\u001b[1;33m\u001b[0m\u001b[0m\n\u001b[1;32m---> 17\u001b[1;33m \u001b[0mdtype\u001b[0m\u001b[1;33m=\u001b[0m\u001b[0mnp\u001b[0m\u001b[1;33m.\u001b[0m\u001b[0mfloat64\u001b[0m\u001b[1;33m\u001b[0m\u001b[0m\n\u001b[0m\u001b[0;32m     18\u001b[0m \u001b[1;33m\u001b[0m\u001b[0m\n\u001b[0;32m     19\u001b[0m \u001b[1;31m###create unigram vectorizer\u001b[0m\u001b[1;33m\u001b[0m\u001b[1;33m\u001b[0m\u001b[0m\n",
      "\u001b[1;31mNameError\u001b[0m: name 'np' is not defined"
     ]
    }
   ],
   "source": [
    "###Model 1 - a) n-grams\n",
    "\n",
    "### build pipeline; fit train; predict on test\n",
    "import nltk\n",
    "from sklearn.pipeline import Pipeline\n",
    "from sklearn.feature_extraction.text import CountVectorizer\n",
    "from sklearn import svm\n",
    "\n",
    "##vectorizer arguments blah!\n",
    "\n",
    "tokenizer=None#word_tokenize\n",
    "# stop_words=nltk.corpus.stopwords.words(\"english\")#None\n",
    "ngram_range=(1, 2)\n",
    "lowercase=True\n",
    "max_features=500\n",
    "binary=False\n",
    "dtype=np.float64\n",
    "\n",
    "###create unigram vectorizer\n",
    "uniVect = CountVectorizer(decode_error=\"ignore\",\n",
    "#                                tokenizer=tokenizer,\n",
    "#                                stop_words=stop_words,\n",
    "                               ngram_range=(1,1),\n",
    "                               lowercase=lowercase,\n",
    "                               binary=binary,\n",
    "                               dtype=dtype,\n",
    "                               max_features=max_features)\n",
    "\n",
    "###create bigram vect\n",
    "biVect = CountVectorizer(decode_error=\"ignore\",\n",
    "#                                tokenizer=tokenizer,\n",
    "#                                stop_words=stop_words,\n",
    "                               ngram_range=(2,2),\n",
    "                               lowercase=lowercase,\n",
    "                               binary=binary,\n",
    "                               dtype=dtype,\n",
    "                               max_features=max_features)\n",
    "\n",
    "# load custom features and FeatureUnion with Vectorizer\n",
    "features = []\n",
    "features.append(('unigram', uniVect))\n",
    "features.append(('bigram', biVect))\n",
    "all_features = FeatureUnion(features)\n",
    "\n",
    "linear_svc = svm.SVC(kernel='linear', probability=True)\n",
    "\n",
    "###create pipeline\n",
    "text_clf = Pipeline([\n",
    "                     ('all', all_features),\n",
    "#                      ('tfidf', TfidfTransformer()),\n",
    "                    ('clf', linear_svc),\n",
    "                    ])\n",
    "\n",
    "# text_clf = Pipeline([\n",
    "#                      ('vect', vectorizer),\n",
    "# #                      ('tfidf', TfidfTransformer()),\n",
    "#                     ('clf', linear_svc),\n",
    "#                     ])\n",
    "\n",
    "###fit training data\n",
    "text_clf = text_clf.fit(X_train.request_text_edit_aware, y_train)\n",
    "\n",
    "### predict on test data\n",
    "predicted = text_clf.predict(X_test.request_text_edit_aware)\n",
    "np.mean(predicted == y_test)\n",
    "print \"NO!\"\n",
    "probas = text_clf.predict_proba(X_test.request_text_edit_aware)\n",
    "print \"YO!\"\n",
    "###get performance metrics\n",
    "from sklearn.metrics import accuracy_score, precision_recall_fscore_support\n",
    "accuracy = accuracy_score(y_test,predicted)\n",
    "#         accuracy = np.mean(y_CVtest == predicted)\n",
    "precision, recall, fscore, sup = precision_recall_fscore_support(y_test, predicted, average='binary', pos_label=0)\n",
    "print precision, recall, fscore, accuracy# np.mean(predicted == y_test)\n",
    "from sklearn.metrics import roc_auc_score\n",
    "# roc_auc = roc_auc_score(y_test, predicted)\n",
    "roc_auc = roc_auc_score(y_test, probas[:,1])\n",
    "print \"ROC = \", roc_auc"
   ]
  },
  {
   "cell_type": "code",
   "execution_count": null,
   "metadata": {
    "collapsed": true
   },
   "outputs": [],
   "source": []
  }
 ],
 "metadata": {
  "kernelspec": {
   "display_name": "Python 2",
   "language": "python",
   "name": "python2"
  },
  "language_info": {
   "codemirror_mode": {
    "name": "ipython",
    "version": 2
   },
   "file_extension": ".py",
   "mimetype": "text/x-python",
   "name": "python",
   "nbconvert_exporter": "python",
   "pygments_lexer": "ipython2",
   "version": "2.7.3"
  }
 },
 "nbformat": 4,
 "nbformat_minor": 0
}
